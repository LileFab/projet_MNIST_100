{
 "cells": [
  {
   "cell_type": "markdown",
   "metadata": {},
   "source": [
    "Je prends MNIST\n",
    "Je prends 100 images labellisé et le reste pas labelllisé\n",
    "Je dev un model pour faire la classification"
   ]
  },
  {
   "cell_type": "code",
   "execution_count": 1,
   "metadata": {},
   "outputs": [],
   "source": [
    "import pandas as pd\n",
    "import matplotlib.pyplot as plt\n",
    "import torch\n",
    "from torchvision.datasets import MNIST\n",
    "from torchvision import transforms, datasets\n",
    "import torch.nn as nn\n",
    "from torch.utils.data import DataLoader, random_split\n",
    "import torch.optim as optim\n",
    "import tqdm\n",
    "\n",
    "\n",
    "transform = transforms.Compose([transforms.ToTensor(), transforms.Normalize((0.5,), (0.5,))])\n",
    "\n",
    "train_dataset = datasets.MNIST(root='./data', train=True, download=True, transform=transform)\n",
    "test_dataset = datasets.MNIST(root='./data', train=False, download=True, transform=transform)\n",
    "\n",
    "train_dataset_100 = [[], []]\n",
    "\n",
    "flag = [0, 0, 0, 0, 0, 0, 0, 0, 0, 0]\n",
    "\n",
    "for i in range(len(train_dataset)):\n",
    "    if train_dataset.targets[i] == 0 and flag[0] < 10:\n",
    "        train_dataset_100[0].append(train_dataset.data[i])\n",
    "        train_dataset_100[1].append(train_dataset.targets[i])\n",
    "        flag[0] += 1\n",
    "    if train_dataset.targets[i] == 1 and flag[1] < 10:\n",
    "        train_dataset_100[0].append(train_dataset.data[i])\n",
    "        train_dataset_100[1].append(train_dataset.targets[i])\n",
    "        flag[1] += 1\n",
    "    if train_dataset.targets[i] == 2 and flag[2] < 10:\n",
    "        train_dataset_100[0].append(train_dataset.data[i])\n",
    "        train_dataset_100[1].append(train_dataset.targets[i])\n",
    "        flag[2] += 1\n",
    "    if train_dataset.targets[i] == 3 and flag[3] < 10:\n",
    "        train_dataset_100[0].append(train_dataset.data[i])\n",
    "        train_dataset_100[1].append(train_dataset.targets[i])\n",
    "        flag[3] += 1\n",
    "    if train_dataset.targets[i] == 4 and flag[4] < 10:\n",
    "        train_dataset_100[0].append(train_dataset.data[i])\n",
    "        train_dataset_100[1].append(train_dataset.targets[i])\n",
    "        flag[4] += 1\n",
    "    if train_dataset.targets[i] == 5 and flag[5] < 10:\n",
    "        train_dataset_100[0].append(train_dataset.data[i])\n",
    "        train_dataset_100[1].append(train_dataset.targets[i])\n",
    "        flag[5] += 1\n",
    "    if train_dataset.targets[i] == 6 and flag[6] < 10:\n",
    "        train_dataset_100[0].append(train_dataset.data[i])\n",
    "        train_dataset_100[1].append(train_dataset.targets[i])\n",
    "        flag[6] += 1\n",
    "    if train_dataset.targets[i] == 7 and flag[7] < 10:\n",
    "        train_dataset_100[0].append(train_dataset.data[i])\n",
    "        train_dataset_100[1].append(train_dataset.targets[i])\n",
    "        flag[7] += 1\n",
    "    if train_dataset.targets[i] == 8 and flag[8] < 10:\n",
    "        train_dataset_100[0].append(train_dataset.data[i])\n",
    "        train_dataset_100[1].append(train_dataset.targets[i])\n",
    "        flag[8] += 1\n",
    "    if train_dataset.targets[i] == 9 and flag[9] < 10:\n",
    "        train_dataset_100[0].append(train_dataset.data[i])\n",
    "        train_dataset_100[1].append(train_dataset.targets[i])\n",
    "        flag[9] += 1\n",
    "\n",
    "train_labels_100 = train_dataset_100[1]\n",
    "train_data_100 = train_dataset_100[0]"
   ]
  },
  {
   "cell_type": "code",
   "execution_count": 2,
   "metadata": {},
   "outputs": [],
   "source": [
    "# Definition du CNN\n",
    "\n",
    "class CNN_MLP(nn.Module):\n",
    "    def __init__(self):\n",
    "        super(CNN_MLP, self).__init__()\n",
    "        self.relu = nn.ReLU()\n",
    "        self.maxpool = nn.MaxPool2d(kernel_size=2, stride=2)\n",
    "        self.flatten = nn.Flatten()\n",
    "        self.fc1 = nn.Linear(28 * 28, 128)\n",
    "        self.fc2 = nn.Linear(128, 10)\n",
    "\n",
    "    def forward(self, x):\n",
    "        x = self.relu(x)\n",
    "        x = self.maxpool(x)\n",
    "        x = self.flatten(x)\n",
    "        x = self.fc1(x)\n",
    "        x = self.relu(x)\n",
    "        x = self.fc2(x)\n",
    "        return x"
   ]
  },
  {
   "cell_type": "code",
   "execution_count": 22,
   "metadata": {},
   "outputs": [
    {
     "ename": "AttributeError",
     "evalue": "'DataLoader' object has no attribute 'shape'",
     "output_type": "error",
     "traceback": [
      "\u001b[0;31m---------------------------------------------------------------------------\u001b[0m",
      "\u001b[0;31mAttributeError\u001b[0m                            Traceback (most recent call last)",
      "Cell \u001b[0;32mIn[22], line 5\u001b[0m\n\u001b[1;32m      2\u001b[0m train_loader \u001b[38;5;241m=\u001b[39m DataLoader(train_data_100, batch_size\u001b[38;5;241m=\u001b[39mbatch_size, shuffle\u001b[38;5;241m=\u001b[39m\u001b[38;5;28;01mTrue\u001b[39;00m)\n\u001b[1;32m      3\u001b[0m model \u001b[38;5;241m=\u001b[39m CNN_MLP()\n\u001b[0;32m----> 5\u001b[0m \u001b[43mtrain_loader\u001b[49m\u001b[38;5;241;43m.\u001b[39;49m\u001b[43mshape\u001b[49m()\n",
      "\u001b[0;31mAttributeError\u001b[0m: 'DataLoader' object has no attribute 'shape'"
     ]
    }
   ],
   "source": [
    "\n",
    "batch_size = 5\n",
    "train_loader = DataLoader(train_data_100, batch_size=batch_size, shuffle=True)\n",
    "model = CNN_MLP()\n"
   ]
  },
  {
   "cell_type": "code",
   "execution_count": 3,
   "metadata": {},
   "outputs": [
    {
     "name": "stderr",
     "output_type": "stream",
     "text": [
      "0it [00:00, ?it/s]\n"
     ]
    },
    {
     "ename": "ValueError",
     "evalue": "too many values to unpack (expected 2)",
     "output_type": "error",
     "traceback": [
      "\u001b[0;31m---------------------------------------------------------------------------\u001b[0m",
      "\u001b[0;31mValueError\u001b[0m                                Traceback (most recent call last)",
      "Cell \u001b[0;32mIn[3], line 15\u001b[0m\n\u001b[1;32m     12\u001b[0m model\u001b[38;5;241m.\u001b[39mtrain()\n\u001b[1;32m     13\u001b[0m loss_t \u001b[38;5;241m=\u001b[39m \u001b[38;5;241m0\u001b[39m\n\u001b[0;32m---> 15\u001b[0m \u001b[38;5;28;01mfor\u001b[39;00m batch_idx, (data, target) \u001b[38;5;129;01min\u001b[39;00m tqdm\u001b[38;5;241m.\u001b[39mtqdm(\u001b[38;5;28menumerate\u001b[39m(train_loader)):\n\u001b[1;32m     16\u001b[0m     optimizer\u001b[38;5;241m.\u001b[39mzero_grad()\n\u001b[1;32m     17\u001b[0m     output \u001b[38;5;241m=\u001b[39m model(data)\n",
      "\u001b[0;31mValueError\u001b[0m: too many values to unpack (expected 2)"
     ]
    }
   ],
   "source": [
    "#CNN avec les modifs\n",
    "\n",
    "batch_size = 5\n",
    "train_loader = DataLoader(train_data_100, batch_size=batch_size, shuffle=True)\n",
    "model = CNN_MLP()\n",
    "\n",
    "criterion = nn.CrossEntropyLoss()\n",
    "optimizer = optim.Adam(model.parameters(), lr=0.01)\n",
    "\n",
    "epochs = 5\n",
    "for epoch in range(epochs):\n",
    "    model.train()\n",
    "    loss_t = 0\n",
    "\n",
    "    for batch_idx, (data, target) in tqdm.tqdm(enumerate(train_loader)):\n",
    "        optimizer.zero_grad()\n",
    "        output = model(data)\n",
    "        loss = criterion(output, target)\n",
    "        loss.backward()\n",
    "        optimizer.step()\n",
    "        loss_t += loss.item()\n",
    "\n",
    "    print(f'Train Epoch: {epoch+1}/{epochs}\\tLoss: {loss_t:.6f}')\n",
    "    model.eval()\n"
   ]
  },
  {
   "cell_type": "code",
   "execution_count": 163,
   "metadata": {},
   "outputs": [],
   "source": [
    "offset = []\n",
    "tabZero = []\n",
    "for y in range(28):\n",
    "    tabZero.append(0)\n",
    "for i in range(5):\n",
    "    offset.append(tabZero)\n",
    "\n"
   ]
  },
  {
   "cell_type": "code",
   "execution_count": 142,
   "metadata": {},
   "outputs": [
    {
     "data": {
      "text/plain": [
       "tensor([  0,   0,   0,   0,   0,   0,   0,   0,   0,   0,   0,   0,   0,   0,\n",
       "          0, 115, 121, 162, 253, 253, 213,   0,   0,   0,   0,   0,   0,   0],\n",
       "       dtype=torch.uint8)"
      ]
     },
     "execution_count": 142,
     "metadata": {},
     "output_type": "execute_result"
    }
   ],
   "source": [
    "# train_data_100[num image][y][x]\n",
    "\n",
    "len(train_data_100[27][27])\n",
    "img_test = train_data_100[15]\n",
    "img_test[7]"
   ]
  },
  {
   "cell_type": "code",
   "execution_count": 164,
   "metadata": {},
   "outputs": [
    {
     "name": "stdout",
     "output_type": "stream",
     "text": [
      "7\n"
     ]
    },
    {
     "data": {
      "image/png": "[encoded data removed]",
      "text/plain": [
       "<Figure size 1000x500 with 2 Axes>"
      ]
     },
     "metadata": {},
     "output_type": "display_data"
    }
   ],
   "source": [
    "ind = 15\n",
    "\n",
    "img_support = train_data_100[ind].detach().clone()\n",
    "\n",
    "for z in range(23):\n",
    "    img_support[z] = img_support[z+5]\n",
    "\n",
    "for y in range(22, 27):\n",
    "    img_support[y] = torch.tensor(tabZero, dtype=torch.uint8)\n",
    "\n",
    "img = train_data_100[ind].detach().clone()\n",
    "\n",
    "\n",
    "label = int(train_labels_100[ind])\n",
    "print(label)\n",
    "\n",
    "fig, axes = plt.subplots(1, 2, figsize=(10, 5))\n",
    "\n",
    "axes[0].imshow(img_support, cmap='gray')\n",
    "axes[0].axis('on')\n",
    "axes[0].set_title('trans')\n",
    "\n",
    "axes[1].imshow(img, cmap='gray')\n",
    "axes[1].axis('on')\n",
    "axes[1].set_title('Image de base')\n",
    "\n",
    "plt.show()\n",
    "\n",
    "\n"
   ]
  },
  {
   "cell_type": "code",
   "execution_count": null,
   "metadata": {},
   "outputs": [],
   "source": []
  }
 ],
 "metadata": {
  "kernelspec": {
   "display_name": ".venv",
   "language": "python",
   "name": "python3"
  },
  "language_info": {
   "codemirror_mode": {
    "name": "ipython",
    "version": 3
   },
   "file_extension": ".py",
   "mimetype": "text/x-python",
   "name": "python",
   "nbconvert_exporter": "python",
   "pygments_lexer": "ipython3",
   "version": "3.12.2"
  }
 },
 "nbformat": 4,
 "nbformat_minor": 2
}
